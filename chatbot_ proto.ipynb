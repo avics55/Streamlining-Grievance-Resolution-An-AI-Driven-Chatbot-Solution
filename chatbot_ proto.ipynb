{
  "cells": [
    {
      "cell_type": "markdown",
      "metadata": {
        "id": "PQJpTa36E6MY"
      },
      "source": [
        "## AI-ML Driven Chatbot"
      ]
    },
    {
      "cell_type": "markdown",
      "metadata": {
        "id": "5FLyhbhuEU_n"
      },
      "source": [
        "The aim of this project is to develop an AI-ML driven chatbot as part of our problem statement no:  2"
      ]
    },
    {
      "cell_type": "markdown",
      "metadata": {
        "id": "FsBgtC44ERPH"
      },
      "source": [
        "### **As a prerequisite, we install all the necessary libraries required for our project.**"
      ]
    },
    {
      "cell_type": "code",
      "execution_count": null,
      "metadata": {
        "id": "VQP9U7VySxpS"
      },
      "outputs": [],
      "source": [
        "# !pip install langchain\n",
        "# !pip install chromadb\n",
        "# !pip install PyPDF2\n",
        "# !pip install faiss-cpu\n",
        "# !pip install gradio"
      ]
    },
    {
      "cell_type": "markdown",
      "metadata": {
        "id": "RYLnoczdEPR5"
      },
      "source": [
        "###  **Then, we import these libraries and modules necessary. These are mentioned below.**"
      ]
    },
    {
      "cell_type": "code",
      "execution_count": null,
      "metadata": {
        "id": "FyJ76CBwTiRT"
      },
      "outputs": [],
      "source": [
        "from PyPDF2 import PdfReader\n",
        "from langchain.embeddings import HuggingFaceEmbeddings, HuggingFaceInferenceAPIEmbeddings, HuggingFaceInstructEmbeddings\n",
        "from langchain.text_splitter import CharacterTextSplitter, RecursiveCharacterTextSplitter\n",
        "from langchain.vectorstores import FAISS, Chroma\n",
        "from langchain.llms import HuggingFaceHub\n",
        "from langchain.chains import RetrievalQA, LLMChain\n",
        "\n",
        "import warnings\n",
        "warnings.filterwarnings('ignore')"
      ]
    },
    {
      "cell_type": "code",
      "execution_count": null,
      "metadata": {
        "id": "to-67WdQGNkz"
      },
      "outputs": [],
      "source": []
    },
    {
      "cell_type": "markdown",
      "metadata": {
        "id": "HK2mp50UGOT1"
      },
      "source": [
        "###**We can either upload the file from drive or from our local system/computer. Here we have chosen a google drive where our file is located.**"
      ]
    },
    {
      "cell_type": "code",
      "execution_count": null,
      "metadata": {
        "id": "3P_S-l1Pw8R9",
        "colab": {
          "base_uri": "https://localhost:8080/"
        },
        "outputId": "e21929f8-dc59-4652-9c71-296acabce2a0"
      },
      "outputs": [
        {
          "output_type": "stream",
          "name": "stdout",
          "text": [
            "Drive already mounted at /content/drive; to attempt to forcibly remount, call drive.mount(\"/content/drive\", force_remount=True).\n"
          ]
        }
      ],
      "source": [
        "from google.colab import drive\n",
        "drive.mount('/content/drive')"
      ]
    },
    {
      "cell_type": "code",
      "execution_count": null,
      "metadata": {
        "id": "ownrcfvjHkji"
      },
      "outputs": [],
      "source": []
    },
    {
      "cell_type": "markdown",
      "metadata": {
        "id": "l-H5YkLtHne-"
      },
      "source": [
        "**The approach that we are going to take involves the use of a PDF which contains all queries that can be possibly asked by the user/individual. For eg: Regarding the Contact details. At present we have chosen already available questions in the FAQ section of CPGRAMS portal as reference. It can be scaled further by updating the pdf with more questions and answers. After the questions alongwith answers are written in Microsoft Word and converted to pdf, we can use the same.**"
      ]
    },
    {
      "cell_type": "code",
      "execution_count": null,
      "metadata": {
        "id": "CMRM1Mr5HkR4"
      },
      "outputs": [],
      "source": []
    },
    {
      "cell_type": "code",
      "execution_count": null,
      "metadata": {
        "id": "q-GsRKHakqFu"
      },
      "outputs": [],
      "source": [
        "reader = PdfReader('/content/drive/MyDrive/CPGRAMS QNA2.pdf')"
      ]
    },
    {
      "cell_type": "code",
      "execution_count": null,
      "metadata": {
        "id": "v3nTd4h4lgwy"
      },
      "outputs": [],
      "source": [
        "raw_text = ''\n",
        "for i, page in enumerate(reader.pages):\n",
        "  text = page.extract_text()\n",
        "  if text:\n",
        "    raw_text += text"
      ]
    },
    {
      "cell_type": "code",
      "execution_count": null,
      "metadata": {
        "colab": {
          "base_uri": "https://localhost:8080/",
          "height": 157
        },
        "id": "8ABzfYcrmhuq",
        "outputId": "aa5cb089-3444-42fa-d6d1-0b5a105e54c1"
      },
      "outputs": [
        {
          "output_type": "execute_result",
          "data": {
            "text/plain": [
              "'5. What happens to the grievances? How are the grievances dealt with in Central \\nMinistries/Departments?  1. What are the contact details of the Department of Administrative Reforms and \\nPublic Grievances?  \\nAns: Department of Administrative Reforms and Public Grievances, 5th floor, Sardar Patel \\nBhavan, Sansad Marg, New Delhi – 110001  \\nWebsite:: www.darpg.gov.in Tele fax : 23741006  \\n2. Where can the grievances be sent?  \\n \\nAns: Grievances can be directed to the following departments: \\n \\na) The Department of Administrative Reforms and Public Grievances at \\npgportal.gov.in. \\nb) The Department of Pensions and Pensioners’ Welfare (DP&PW) at \\npgportal.gov.in/pension. \\n \\nThese nodal agencies accept grievances online through pgportal.gov.in, as well as by \\npost or in person. \\n \\n3. How do I lodge the grievance?  \\n \\nAns: Complaints can be submitted online. However, if internet access is unavailable or for \\nany other reason, individuals are welcome to mail their grievances. There’s no specific \\nformat required. \\n \\nThe complaint can be written on a plain piece of paper, a postcard, or an inland letter and sent \\nto the relevant department. Alternatively, grievances can also be submitted via a Common \\nService Centre. \\n \\n4. Mention step-by-step instructions for registering a grievance in the \\nCPGRAMS portal?  \\n \\nAns: \\n\\uf0b7 Visit CPGRAMS Portal: Go to https://pgportal.gov.in/ \\n \\n\\uf0b7 Register/Login: New users register at https://pgportal.gov.in/Registration, \\nexisting users log in at https://pgportal.gov.in/Login \\n \\n\\uf0b7 Lodge a Grievance: Access \"Lodge Grievance,\" choose category, provide \\ndetails, and submit. Receive a unique Grievance Registration Number for \\ntracking and follow-up. \\n \\n5. What happens when I lodge the grievance?  \\n \\nAns: Each complaint, whether submitted online or by mail, is acknowledged and assigned a \\nunique registration number. \\n \\n \\nAns: Each Central Ministry or Department has appointed either a Joint Secretary or a \\nDirector/Deputy Secretary as the ‘Director of Grievances’. This individual serves as the \\nprimary point of contact for addressing complaints related to the work areas assigned to their 6. What is the system of granting personal hearing on grievances?  \\n10. What is the time limit for redress of grievance?  respective Ministry or Department. \\nAns: The Director of Public Grievances has designated every Wednesday for personally receiving \\nand addressing complaints. \\n \\n7. What are the types of grievances which are not taken up for redress by the \\nDepartment?  \\n \\nAns: These are the types of grievances not taken up for redressal: \\n \\n\\uf0b7 Cases under judicial consideration or any issues related to court judgments. \\n\\uf0b7 Disputes within personal and familial contexts. \\n\\uf0b7 Matters pertaining to the Right to Information. \\n\\uf0b7 Any subject that influences the country’s territorial integrity or its diplomatic relations \\nwith other nations. \\n \\n8. What does the Department of Administrative Reforms and Public Grievances \\n(DARPG) do in relation to the complaints about Central \\nMinistries/Departments/Organizations? \\n \\nAns: The Department of Administrative Reforms & Public Grievances serves as the primary \\nbody for formulating policies, overseeing, and coordinating the handling of public complaints \\nrelated to the work of the Ministries/Departments/Organizations of the Indian Government. \\nComplaints received by the department are sent to the relevant Ministries/Departments for \\nresolution. Each Ministry/Department independently addresses these grievances. The \\nDepartment also conducts regular reviews of the resolution status of public grievances under \\nCPGRAMS across Ministries/Departments to ensure quick resolution of complaints. \\n \\n9. What is the role of Department of Administrative Reforms and Public \\nGrievances (DARPG) with reference to the grievances concerning State \\nGovernment?  \\n \\nAns: All grievances relating to State Governments / Union Territory Administrations and \\nGovernment of NCT Region of Delhi, are sent to the State/ UT/ NCT Government concerned. \\nCitizens may take up matter regarding pendency of their grievances directly with the State \\nGovernment concerned also.  \\n \\n \\nAns: A period of thirty (30) days is given. If there is a delay, an interim response explaining \\nthe reasons for the delay is necessary. \\n \\n  11. What can a citizen do if he is not satisfied with the redressal of his grievance?  \\n \\nAns: If someone is not happy with how their complaint was handled by the Central \\nMinistry/Department, they can appeal. This is based on a required feedback rating given by \\nthe person after their complaint is dealt with. The appeal has to be made within 30 days. \\n \\n \\n 12. Can I submit a grievance anonymously through the CPGRAMS portal? \\n \\nNo, currently, the CPGRAMS portal requires users to register and provide their details. \\nHowever, the personal information is kept confidential, and the system generates a unique \\nGrievance Registration Number to track the grievance without revealing the identity publicly. \\n \\n13. What measures are in place to ensure the confidentiality of personal information \\nshared while lodging a grievance? \\n \\nThe CPGRAMS portal follows strict data security and confidentiality measures. Personal \\ninformation provided during grievance submission is safeguarded and accessible only to \\nauthorized personnel involved in the grievance resolution process. The system is designed to \\nprotect the privacy of individuals and ensure the secure handling of sensitive information. \\n \\n \\n \\n \\n \\n \\n \\n \\n \\n \\n  \\n \\n \\n \\n \\n \\n \\n \\n \\n \\n \\n \\n \\n \\n \\n \\n \\n \\n \\n \\n \\n \\n \\n \\n  \\n \\n '"
            ],
            "application/vnd.google.colaboratory.intrinsic+json": {
              "type": "string"
            }
          },
          "metadata": {},
          "execution_count": 104
        }
      ],
      "source": [
        "raw_text"
      ]
    },
    {
      "cell_type": "code",
      "execution_count": null,
      "metadata": {
        "colab": {
          "base_uri": "https://localhost:8080/",
          "height": 87
        },
        "id": "0cLzpsPPmlob",
        "outputId": "3d4ba56c-48e2-43d6-e990-a942852e2951"
      },
      "outputs": [
        {
          "output_type": "execute_result",
          "data": {
            "text/plain": [
              "'5. What happens to the grievances? How are the grievances dealt with in Central \\nMinistries/Departments?  1. What are the contact details of the Department of Administrative Reforms and \\nPublic Grievances?  \\nAns: Department of Administrative Reforms and Public Grievances, 5th floor, Sardar Patel \\nBhavan, Sansad Marg, New Delhi – 110001  \\nWebsite:: www.darpg.gov.in Tele fax : 23741006  \\n2. Where can the grievances be sent?  \\n \\nAns: Grievances can be directed to the following departments: \\n \\na) Th'"
            ],
            "application/vnd.google.colaboratory.intrinsic+json": {
              "type": "string"
            }
          },
          "metadata": {},
          "execution_count": 105
        }
      ],
      "source": [
        "raw_text[:500]"
      ]
    },
    {
      "cell_type": "markdown",
      "metadata": {
        "id": "yJCvU4c7KoP8"
      },
      "source": [
        "### **_To improve processing efficiency, the code uses a text splitter to divide extracted text into smaller chunks. The chosen parameters (separator, chunk size, and overlap) ensure optimal chunking for subsequent operations._**"
      ]
    },
    {
      "cell_type": "code",
      "execution_count": null,
      "metadata": {
        "id": "yUYHQY0Ums1H"
      },
      "outputs": [],
      "source": [
        "text_splitter = CharacterTextSplitter(separator = '\\n',\n",
        "                      chunk_size = 1000, chunk_overlap = 0, length_function = len,)\n",
        "texts = text_splitter.split_text(raw_text)"
      ]
    },
    {
      "cell_type": "code",
      "execution_count": null,
      "metadata": {
        "colab": {
          "base_uri": "https://localhost:8080/",
          "height": 139
        },
        "id": "GlwM7MxZpyCB",
        "outputId": "ca0c1581-757f-4973-df31-a994ace1b532"
      },
      "outputs": [
        {
          "output_type": "execute_result",
          "data": {
            "text/plain": [
              "'5. What happens to the grievances? How are the grievances dealt with in Central \\nMinistries/Departments?  1. What are the contact details of the Department of Administrative Reforms and \\nPublic Grievances?  \\nAns: Department of Administrative Reforms and Public Grievances, 5th floor, Sardar Patel \\nBhavan, Sansad Marg, New Delhi – 110001  \\nWebsite:: www.darpg.gov.in Tele fax : 23741006  \\n2. Where can the grievances be sent?  \\n \\nAns: Grievances can be directed to the following departments: \\n \\na) The Department of Administrative Reforms and Public Grievances at \\npgportal.gov.in. \\nb) The Department of Pensions and Pensioners’ Welfare (DP&PW) at \\npgportal.gov.in/pension. \\n \\nThese nodal agencies accept grievances online through pgportal.gov.in, as well as by \\npost or in person. \\n \\n3. How do I lodge the grievance?  \\n \\nAns: Complaints can be submitted online. However, if internet access is unavailable or for'"
            ],
            "application/vnd.google.colaboratory.intrinsic+json": {
              "type": "string"
            }
          },
          "metadata": {},
          "execution_count": 107
        }
      ],
      "source": [
        "texts[0]"
      ]
    },
    {
      "cell_type": "code",
      "execution_count": null,
      "metadata": {
        "id": "d6qSGJ_JLHMR"
      },
      "outputs": [],
      "source": []
    },
    {
      "cell_type": "markdown",
      "metadata": {
        "id": "nKhVg5whLH5E"
      },
      "source": [
        "### **_This code snippet imports necessary modules, securely prompts the user for an API token, and sets it as an environment variable for further use in the program. The purpose of this code would likely be to authenticate with the Hugging Face API using the provided token. The key can be accessed from [https://huggingface.co/settings/tokens].  We have used getpass module to hide the key needed for security reasons_**"
      ]
    },
    {
      "cell_type": "code",
      "execution_count": null,
      "metadata": {
        "colab": {
          "base_uri": "https://localhost:8080/"
        },
        "id": "kEZD9fNQGEPk",
        "outputId": "5844f0cd-4517-42f2-cd88-ce7eb5f376d6"
      },
      "outputs": [
        {
          "name": "stdout",
          "output_type": "stream",
          "text": [
            "··········\n"
          ]
        }
      ],
      "source": [
        "import os\n",
        "from getpass import getpass\n",
        "HF_token = getpass()\n",
        "os.environ[\"HUGGINGFACEHUB_API_TOKEN\"] = HF_token"
      ]
    },
    {
      "cell_type": "markdown",
      "metadata": {
        "id": "Jcf8WCj8Lyu_"
      },
      "source": [
        "### **This line of code is creating a tool to use a language model called 'BAAI/bge-base-en-v1.5' provided by Hugging Face. The tool will use an API key called 'HF_token' to access this language model. We also use library FAISS to perform similarity search**"
      ]
    },
    {
      "cell_type": "code",
      "execution_count": null,
      "metadata": {
        "id": "9b5A-CSQntmM"
      },
      "outputs": [],
      "source": [
        "embeddings = HuggingFaceInferenceAPIEmbeddings(api_key = HF_token, MODEL_NAME = 'BAAI/bge-base-en-v1.5')"
      ]
    },
    {
      "cell_type": "code",
      "execution_count": null,
      "metadata": {
        "id": "vWpMKpIOp-Px"
      },
      "outputs": [],
      "source": [
        "db = FAISS.from_texts(texts, embeddings)"
      ]
    },
    {
      "cell_type": "markdown",
      "metadata": {
        "id": "JJVSWbi6M9h8"
      },
      "source": [
        "### **We then set and update the necessary parameters that will be used in our chatbot to answer questions.**"
      ]
    },
    {
      "cell_type": "code",
      "execution_count": null,
      "metadata": {
        "id": "Jj2QtnrPJRpL"
      },
      "outputs": [],
      "source": [
        "llm = HuggingFaceHub(\n",
        "    repo_id=\"google/flan-t5-xxl\",\n",
        "    model_kwargs={\"temperature\": 0.5, \"max_length\": 64,\"max_new_tokens\":512}\n",
        ")"
      ]
    },
    {
      "cell_type": "code",
      "execution_count": null,
      "metadata": {
        "id": "AwjnC46VL3vy"
      },
      "outputs": [],
      "source": [
        "from langchain.chains.question_answering import load_qa_chain\n",
        "chain = load_qa_chain(llm, chain_type = 'stuff')"
      ]
    },
    {
      "cell_type": "markdown",
      "metadata": {
        "id": "vDoNv2N7NrEb"
      },
      "source": [
        "### **Let us now perform query search**"
      ]
    },
    {
      "cell_type": "code",
      "execution_count": null,
      "metadata": {
        "id": "7mTmoccQO_54",
        "colab": {
          "base_uri": "https://localhost:8080/",
          "height": 70
        },
        "outputId": "cab932b6-c17e-49df-878e-1820db17d315"
      },
      "outputs": [
        {
          "output_type": "execute_result",
          "data": {
            "text/plain": [
              "' Visit CPGRAMS Portal: Go to https://pgportal.gov.in/  Register/Login: New users register at https://pgportal.gov.in/Registration, existing users log in at https://pgportal.gov.in/Login  Lodge a Grievance: Access \"Lodge Grievance,\" choose category, provide details, and submit. Receive a unique Grievance Registration Number for tracking and follow-up.'"
            ],
            "application/vnd.google.colaboratory.intrinsic+json": {
              "type": "string"
            }
          },
          "metadata": {},
          "execution_count": 118
        }
      ],
      "source": [
        "query = \"How to register for grievance?\"\n",
        "search = db.similarity_search(query)\n",
        "chain.run(input_documents = search, question = query)"
      ]
    },
    {
      "cell_type": "markdown",
      "source": [
        "# Combined code with all neccesary imports and install(assumes pdf file to be uploaded onto google drive )"
      ],
      "metadata": {
        "id": "MMwpgxqKkzej"
      }
    },
    {
      "cell_type": "code",
      "execution_count": null,
      "metadata": {
        "colab": {
          "base_uri": "https://localhost:8080/",
          "height": 680
        },
        "id": "4RmGv4hJ-nL7",
        "outputId": "05b82bcf-711e-456c-99bc-cf9e16f54918"
      },
      "outputs": [
        {
          "output_type": "stream",
          "name": "stdout",
          "text": [
            "Drive already mounted at /content/drive; to attempt to forcibly remount, call drive.mount(\"/content/drive\", force_remount=True).\n",
            "··········\n",
            "Setting queue=True in a Colab notebook requires sharing enabled. Setting `share=True` (you can turn this off by setting `share=False` in `launch()` explicitly).\n",
            "\n",
            "Colab notebook detected. To show errors in colab notebook, set debug=True in launch()\n",
            "Running on public URL: https://47aa9f5b70023104f4.gradio.live\n",
            "\n",
            "This share link expires in 72 hours. For free permanent hosting and GPU upgrades, run `gradio deploy` from Terminal to deploy to Spaces (https://huggingface.co/spaces)\n"
          ]
        },
        {
          "output_type": "display_data",
          "data": {
            "text/plain": [
              "<IPython.core.display.HTML object>"
            ],
            "text/html": [
              "<div><iframe src=\"https://47aa9f5b70023104f4.gradio.live\" width=\"100%\" height=\"500\" allow=\"autoplay; camera; microphone; clipboard-read; clipboard-write;\" frameborder=\"0\" allowfullscreen></iframe></div>"
            ]
          },
          "metadata": {}
        },
        {
          "output_type": "execute_result",
          "data": {
            "text/plain": []
          },
          "metadata": {},
          "execution_count": 120
        }
      ],
      "source": [
        "# -*- coding: utf-8 -*-\n",
        "\"\"\"app.ipynb\n",
        "\n",
        "Automatically generated by Colaboratory.\n",
        "\n",
        "Original file is located at\n",
        "    https://colab.research.google.com/drive/1FVQMK-vj2XSfOCCm7-kv6P6OWeTTcdAS\n",
        "\"\"\"\n",
        "\n",
        "# !pip install langchain\n",
        "# !pip install chromadb\n",
        "# !pip install PyPDF2\n",
        "# !pip install faiss-cpu\n",
        "# !pip install gradio  # Install Gradio\n",
        "\n",
        "import os\n",
        "from getpass import getpass\n",
        "from PyPDF2 import PdfReader\n",
        "from langchain.embeddings import HuggingFaceEmbeddings, HuggingFaceInferenceAPIEmbeddings, HuggingFaceInstructEmbeddings\n",
        "from langchain.text_splitter import CharacterTextSplitter, RecursiveCharacterTextSplitter\n",
        "from langchain.vectorstores import FAISS, Chroma\n",
        "from langchain.llms import HuggingFaceHub\n",
        "from langchain.chains import RetrievalQA, LLMChain\n",
        "import gradio as gr  # Import Gradio\n",
        "\n",
        "from google.colab import drive\n",
        "drive.mount('/content/drive')\n",
        "\n",
        "reader = PdfReader('/content/drive/MyDrive/CPGRAMS QNA2.pdf')\n",
        "\n",
        "raw_text = ''\n",
        "for i, page in enumerate(reader.pages):\n",
        "  text = page.extract_text()\n",
        "  if text:\n",
        "    raw_text += text\n",
        "\n",
        "text_splitter = CharacterTextSplitter(separator = '\\n',\n",
        "                      chunk_size = 1000, chunk_overlap = 0, length_function = len,)\n",
        "texts = text_splitter.split_text(raw_text)\n",
        "\n",
        "HF_token = getpass()\n",
        "os.environ[\"HUGGINGFACEHUB_API_TOKEN\"] = HF_token\n",
        "\n",
        "embeddings = HuggingFaceInferenceAPIEmbeddings(api_key = HF_token, MODEL_NAME = 'BAAI/bge-base-en-v1.5')\n",
        "\n",
        "db = FAISS.from_texts(texts, embeddings)\n",
        "\n",
        "llm = HuggingFaceHub(\n",
        "    repo_id=\"google/flan-t5-xxl\",\n",
        "    model_kwargs={\"temperature\": 0.5, \"max_length\": 64,\"max_new_tokens\":512}\n",
        ")\n",
        "\n",
        "from langchain.chains.question_answering import load_qa_chain\n",
        "chain = load_qa_chain(llm, chain_type = 'stuff')\n",
        "\n",
        "# Define a function to answer questions\n",
        "def answer_question(query):\n",
        "    search = db.similarity_search(query)\n",
        "    return chain.run(input_documents = search, question = query)\n",
        "\n",
        "# Create a Gradio interface\n",
        "iface = gr.Interface(fn=answer_question, inputs=\"text\", outputs=\"text\")\n",
        "\n",
        "# Launch the interface\n",
        "iface.launch()\n"
      ]
    }
  ],
  "metadata": {
    "colab": {
      "gpuType": "T4",
      "provenance": []
    },
    "kernelspec": {
      "display_name": "Python 3",
      "name": "python3"
    },
    "language_info": {
      "name": "python"
    }
  },
  "nbformat": 4,
  "nbformat_minor": 0
}